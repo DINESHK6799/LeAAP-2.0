{
 "cells": [
  {
   "cell_type": "markdown",
   "id": "d877a97a",
   "metadata": {},
   "source": [
    "# My Jupyter Notebook on IBM Watson Studio"
   ]
  },
  {
   "cell_type": "markdown",
   "id": "5facc192",
   "metadata": {},
   "source": [
    "**Dinesh Killada**\n",
    "Senior Analyst"
   ]
  },
  {
   "cell_type": "markdown",
   "id": "d82d9cc4",
   "metadata": {},
   "source": [
    "*I am interested in data science because it helps businesses make better decisions by knowing the customer behaviour more closely so that they can serve them better*"
   ]
  },
  {
   "cell_type": "markdown",
   "id": "78672a4f",
   "metadata": {},
   "source": [
    "### Multiplying 12 with 12 in the below cell where it should give us the output as 144"
   ]
  },
  {
   "cell_type": "code",
   "execution_count": 2,
   "id": "399fbf8e",
   "metadata": {},
   "outputs": [
    {
     "data": {
      "text/plain": [
       "144"
      ]
     },
     "execution_count": 2,
     "metadata": {},
     "output_type": "execute_result"
    }
   ],
   "source": [
    "12*12"
   ]
  },
  {
   "cell_type": "markdown",
   "id": "37da2ce5",
   "metadata": {},
   "source": [
    "Details\n",
    "\n",
    "---\n",
    "\n",
    "|Name|DOB|Designation|\n",
    "|----|----|----|\n",
    "|Dinesh|06/07/1999|Senior Analyst|\n",
    "\n",
    "---\n",
    "\n",
    "My Interests are - \n",
    " - Cricket\n",
    " - Movies\n",
    " \n",
    "---\n",
    "\n",
    "\n"
   ]
  }
 ],
 "metadata": {
  "kernelspec": {
   "display_name": "Python 3 (ipykernel)",
   "language": "python",
   "name": "python3"
  },
  "language_info": {
   "codemirror_mode": {
    "name": "ipython",
    "version": 3
   },
   "file_extension": ".py",
   "mimetype": "text/x-python",
   "name": "python",
   "nbconvert_exporter": "python",
   "pygments_lexer": "ipython3",
   "version": "3.9.13"
  }
 },
 "nbformat": 4,
 "nbformat_minor": 5
}
